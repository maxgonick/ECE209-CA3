{
 "cells": [
  {
   "cell_type": "code",
   "execution_count": 21,
   "metadata": {},
   "outputs": [],
   "source": [
    "cpp_file_path = \"myp.cpp\"\n",
    "with open(cpp_file_path, 'r') as cpp_file:\n",
    "    cpp_code = cpp_file.read().splitlines()\n"
   ]
  },
  {
   "cell_type": "markdown",
   "metadata": {},
   "source": [
    "Define a block"
   ]
  },
  {
   "cell_type": "code",
   "execution_count": 22,
   "metadata": {},
   "outputs": [
    {
     "name": "stdout",
     "output_type": "stream",
     "text": [
      "Block Number: 1 Lines: [1, 2, 3, 4, 5] Entry: 1 Exit: 5\n",
      "Block Number: 2 Lines: [6, 7] Entry: 6 Exit: 7\n",
      "Block Number: 3 Lines: [8, 9] Entry: 8 Exit: 9\n",
      "Block Number: 4 Lines: [10, 11] Entry: 10 Exit: 11\n",
      "Block Number: 5 Lines: [12] Entry: 12 Exit: 12\n"
     ]
    }
   ],
   "source": [
    "class Block:\n",
    "    def __init__(self, block_number, lines=[], entry=None, exit=None):\n",
    "        self.block_number = block_number\n",
    "        self.lines = lines\n",
    "        self.entry = entry\n",
    "        self.exit = exit\n",
    "    \n",
    "    def printBlock(self):\n",
    "        print(f\"Block Number: {self.block_number} Lines: {self.lines} Entry: {self.entry} Exit: {self.exit}\")\n",
    "\n",
    "branching = ['if', 'else if', 'else', 'for', 'switch', 'while', 'return', 'case', 'default']\n",
    "blocks = []\n",
    "block_counter = 0\n",
    "counter = 1\n",
    "counter2 = 1\n",
    "newblock = True\n",
    "for index, line in enumerate(cpp_code):\n",
    "    # print(counter)\n",
    "    counter += 1\n",
    "    # print(line)\n",
    "    counter2 = 1\n",
    "    if \"main\" in line or newblock:\n",
    "        block_counter += 1\n",
    "        blocks.append(Block(block_counter, entry=index + 1, lines=[index + 1]))\n",
    "        newblock = False\n",
    "    # Start block \n",
    "    elif any(keyword in line for keyword in branching):\n",
    "        if blocks:\n",
    "            blocks[-1].exit = index + 1\n",
    "            blocks[-1].lines.append(index + 1)\n",
    "        # print(counter2)\n",
    "        counter2 += 1\n",
    "        newblock = True\n",
    "        # print(index + 1, line)\n",
    "        # blocks.append(Block(block_counter, entry=index + 1, lines=[index + 1]))\n",
    "    # Line is a part of the previous block\n",
    "    else:\n",
    "        if blocks:\n",
    "            current_block = blocks[-1]\n",
    "            current_block.lines.append(index + 1)\n",
    "        newblock = False\n",
    "\n",
    "if blocks:\n",
    "    blocks[-1].exit = len(cpp_code)\n",
    "\n",
    "for block in blocks:\n",
    "    block.printBlock()\n"
   ]
  },
  {
   "cell_type": "code",
   "execution_count": 23,
   "metadata": {},
   "outputs": [],
   "source": [
    "cpp_file_path = \"advp.cpp\"\n",
    "with open(cpp_file_path, 'r') as cpp_file:\n",
    "    cpp_code = cpp_file.read().splitlines()\n"
   ]
  },
  {
   "cell_type": "code",
   "execution_count": 24,
   "metadata": {},
   "outputs": [
    {
     "name": "stdout",
     "output_type": "stream",
     "text": [
      "Block Number: 1 Lines: [1, 2, 3, 4, 5] Entry: 1 Exit: 5\n",
      "Block Number: 2 Lines: [6, 7] Entry: 6 Exit: 7\n",
      "Block Number: 3 Lines: [8, 9, 10, 11, 12, 13] Entry: 8 Exit: 13\n",
      "Block Number: 4 Lines: [14, 15] Entry: 14 Exit: 15\n",
      "Block Number: 5 Lines: [16, 17] Entry: 16 Exit: 17\n",
      "Block Number: 6 Lines: [18, 19, 20, 21, 22, 23] Entry: 18 Exit: 23\n",
      "Block Number: 7 Lines: [24, 25] Entry: 24 Exit: 25\n",
      "Block Number: 8 Lines: [26, 27, 28, 29, 30] Entry: 26 Exit: 30\n",
      "Block Number: 9 Lines: [31, 32, 33, 34] Entry: 31 Exit: 34\n",
      "Block Number: 10 Lines: [35, 36, 37] Entry: 35 Exit: 37\n",
      "Block Number: 11 Lines: [38, 39, 40, 41, 42, 43] Entry: 38 Exit: 43\n",
      "Block Number: 12 Lines: [44, 45] Entry: 44 Exit: 45\n",
      "Block Number: 13 Lines: [46, 47] Entry: 46 Exit: 47\n",
      "Block Number: 14 Lines: [48, 49, 50, 51, 52] Entry: 48 Exit: 52\n",
      "Block Number: 15 Lines: [53] Entry: 53 Exit: 53\n"
     ]
    }
   ],
   "source": [
    "class Block:\n",
    "    def __init__(self, block_number, lines=[], entry=None, exit=None):\n",
    "        self.block_number = block_number\n",
    "        self.lines = lines\n",
    "        self.entry = entry\n",
    "        self.exit = exit\n",
    "    \n",
    "    def printBlock(self):\n",
    "        print(f\"Block Number: {self.block_number} Lines: {self.lines} Entry: {self.entry} Exit: {self.exit}\")\n",
    "\n",
    "branching = ['if', 'else if', 'else', 'for', 'switch', 'while', 'return', 'case', 'default']\n",
    "blocks = []\n",
    "block_counter = 0\n",
    "counter = 1\n",
    "counter2 = 1\n",
    "newblock = True\n",
    "for index, line in enumerate(cpp_code):\n",
    "    # print(counter)\n",
    "    counter += 1\n",
    "    # print(line)\n",
    "    counter2 = 1\n",
    "    if \"main\" in line or newblock:\n",
    "        block_counter += 1\n",
    "        blocks.append(Block(block_counter, entry=index + 1, lines=[index + 1]))\n",
    "        newblock = False\n",
    "    # Start block \n",
    "    elif any(keyword in line for keyword in branching):\n",
    "        if blocks:\n",
    "            blocks[-1].exit = index + 1\n",
    "            blocks[-1].lines.append(index + 1)\n",
    "        # print(counter2)\n",
    "        counter2 += 1\n",
    "        newblock = True\n",
    "        # print(index + 1, line)\n",
    "        # blocks.append(Block(block_counter, entry=index + 1, lines=[index + 1]))\n",
    "    # Line is a part of the previous block\n",
    "    else:\n",
    "        if blocks:\n",
    "            current_block = blocks[-1]\n",
    "            current_block.lines.append(index + 1)\n",
    "        newblock = False\n",
    "\n",
    "if blocks:\n",
    "    blocks[-1].exit = len(cpp_code)\n",
    "\n",
    "for block in blocks:\n",
    "    block.printBlock()\n"
   ]
  }
 ],
 "metadata": {
  "kernelspec": {
   "display_name": "Python 3",
   "language": "python",
   "name": "python3"
  },
  "language_info": {
   "codemirror_mode": {
    "name": "ipython",
    "version": 3
   },
   "file_extension": ".py",
   "mimetype": "text/x-python",
   "name": "python",
   "nbconvert_exporter": "python",
   "pygments_lexer": "ipython3",
   "version": "3.10.5"
  }
 },
 "nbformat": 4,
 "nbformat_minor": 2
}
